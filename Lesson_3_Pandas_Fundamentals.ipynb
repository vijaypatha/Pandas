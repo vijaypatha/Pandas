{
 "cells": [
  {
   "cell_type": "markdown",
   "metadata": {},
   "source": [
    "# Fundamentals Introduction\n",
    "\n",
    "### Contents\n",
    "- Object Creation\n",
    "- Viewing Data\n",
    "- Selection\n",
    "    - Getting \n",
    "    - Selection by Label \n",
    "    - Selection by Position \n",
    "- Boolean Indexing\n",
    "- Setting \n",
    "- Missing Data\n",
    "- Operations \n",
    "    - Stats \n",
    "    - Apply\n",
    "    - Histogramming \n",
    "    - String Methods\n",
    "- Merge\n",
    "    - Concat\n",
    "    - Join\n",
    "    - Append \n",
    "- Grouping \n",
    "    - Splitting \n",
    "    - Applying \n",
    "    - Combining\n",
    "- Reshaping \n",
    "    - Stack \n",
    "    - Unstack \n",
    "- Pivot Tables\n",
    "- Timeseries \n",
    "- Categorical\n",
    "- Plotting\n",
    "- Getting Data in/out \n"
   ]
  },
  {
   "cell_type": "code",
   "execution_count": 1,
   "metadata": {},
   "outputs": [],
   "source": [
    "import numpy as np\n",
    "import pandas as pd"
   ]
  },
  {
   "cell_type": "markdown",
   "metadata": {},
   "source": [
    "## Object Creation\n",
    "- Question: How to create Series and DataFrame? \n",
    "- Answer: Both Series and Dataframe can be create using:\n",
    "    - numpy array (ndarray)\n",
    "    - Dictionaries \n",
    "    - Scalars\n"
   ]
  },
  {
   "cell_type": "markdown",
   "metadata": {},
   "source": [
    "###  Creating a Series by passing list of values\n",
    "- Series is a one dimmensional container of scalars. It can hold any data types.\n",
    "- s = pd.Series(data, index).\n",
    "- index is optional, however, pandas will create a default index \n",
    "\n"
   ]
  },
  {
   "cell_type": "code",
   "execution_count": 10,
   "metadata": {},
   "outputs": [],
   "source": [
    "s = pd.Series([1,3,4,np.nan,6,7])"
   ]
  },
  {
   "cell_type": "code",
   "execution_count": 4,
   "metadata": {},
   "outputs": [
    {
     "data": {
      "text/plain": [
       "0    1.0\n",
       "1    3.0\n",
       "2    4.0\n",
       "3    NaN\n",
       "4    6.0\n",
       "5    7.0\n",
       "dtype: float64"
      ]
     },
     "execution_count": 4,
     "metadata": {},
     "output_type": "execute_result"
    }
   ],
   "source": [
    "s"
   ]
  },
  {
   "cell_type": "markdown",
   "metadata": {},
   "source": [
    "### Creating a Dataframe by passing Numpy Array, with labeled columns and dates as index"
   ]
  },
  {
   "cell_type": "code",
   "execution_count": 8,
   "metadata": {},
   "outputs": [
    {
     "data": {
      "text/plain": [
       "DatetimeIndex(['2019-01-01', '2019-01-02', '2019-01-03', '2019-01-04',\n",
       "               '2019-01-05', '2019-01-06'],\n",
       "              dtype='datetime64[ns]', freq='D')"
      ]
     },
     "execution_count": 8,
     "metadata": {},
     "output_type": "execute_result"
    }
   ],
   "source": [
    "dates = pd.date_range('20190101', periods=6)\n",
    "dates"
   ]
  },
  {
   "cell_type": "code",
   "execution_count": 12,
   "metadata": {},
   "outputs": [
    {
     "data": {
      "text/html": [
       "<div>\n",
       "<style scoped>\n",
       "    .dataframe tbody tr th:only-of-type {\n",
       "        vertical-align: middle;\n",
       "    }\n",
       "\n",
       "    .dataframe tbody tr th {\n",
       "        vertical-align: top;\n",
       "    }\n",
       "\n",
       "    .dataframe thead th {\n",
       "        text-align: right;\n",
       "    }\n",
       "</style>\n",
       "<table border=\"1\" class=\"dataframe\">\n",
       "  <thead>\n",
       "    <tr style=\"text-align: right;\">\n",
       "      <th></th>\n",
       "      <th>A</th>\n",
       "      <th>B</th>\n",
       "      <th>C</th>\n",
       "      <th>D</th>\n",
       "    </tr>\n",
       "  </thead>\n",
       "  <tbody>\n",
       "    <tr>\n",
       "      <th>2019-01-01</th>\n",
       "      <td>0.839231</td>\n",
       "      <td>-1.061113</td>\n",
       "      <td>-0.626078</td>\n",
       "      <td>-1.252577</td>\n",
       "    </tr>\n",
       "    <tr>\n",
       "      <th>2019-01-02</th>\n",
       "      <td>0.384877</td>\n",
       "      <td>-1.561748</td>\n",
       "      <td>-0.936011</td>\n",
       "      <td>-0.974969</td>\n",
       "    </tr>\n",
       "    <tr>\n",
       "      <th>2019-01-03</th>\n",
       "      <td>1.009431</td>\n",
       "      <td>0.141091</td>\n",
       "      <td>1.447420</td>\n",
       "      <td>0.125754</td>\n",
       "    </tr>\n",
       "    <tr>\n",
       "      <th>2019-01-04</th>\n",
       "      <td>1.413354</td>\n",
       "      <td>-1.092345</td>\n",
       "      <td>-1.468236</td>\n",
       "      <td>-0.194967</td>\n",
       "    </tr>\n",
       "    <tr>\n",
       "      <th>2019-01-05</th>\n",
       "      <td>0.028326</td>\n",
       "      <td>-1.223371</td>\n",
       "      <td>-1.342722</td>\n",
       "      <td>-0.538534</td>\n",
       "    </tr>\n",
       "    <tr>\n",
       "      <th>2019-01-06</th>\n",
       "      <td>-1.217655</td>\n",
       "      <td>-1.347822</td>\n",
       "      <td>-1.420383</td>\n",
       "      <td>-0.126034</td>\n",
       "    </tr>\n",
       "  </tbody>\n",
       "</table>\n",
       "</div>"
      ],
      "text/plain": [
       "                   A         B         C         D\n",
       "2019-01-01  0.839231 -1.061113 -0.626078 -1.252577\n",
       "2019-01-02  0.384877 -1.561748 -0.936011 -0.974969\n",
       "2019-01-03  1.009431  0.141091  1.447420  0.125754\n",
       "2019-01-04  1.413354 -1.092345 -1.468236 -0.194967\n",
       "2019-01-05  0.028326 -1.223371 -1.342722 -0.538534\n",
       "2019-01-06 -1.217655 -1.347822 -1.420383 -0.126034"
      ]
     },
     "execution_count": 12,
     "metadata": {},
     "output_type": "execute_result"
    }
   ],
   "source": [
    "df = pd.DataFrame(np.random.randn(6,4), index = dates, columns = list('ABCD'))\n",
    "df"
   ]
  },
  {
   "cell_type": "code",
   "execution_count": 13,
   "metadata": {},
   "outputs": [
    {
     "data": {
      "text/plain": [
       "A    float64\n",
       "B    float64\n",
       "C    float64\n",
       "D    float64\n",
       "dtype: object"
      ]
     },
     "execution_count": 13,
     "metadata": {},
     "output_type": "execute_result"
    }
   ],
   "source": [
    "df.dtypes"
   ]
  },
  {
   "cell_type": "markdown",
   "metadata": {},
   "source": [
    "### Creating a Dataframe by passing Dictionary, with labeled columns and dates as index"
   ]
  },
  {
   "cell_type": "code",
   "execution_count": 17,
   "metadata": {},
   "outputs": [
    {
     "data": {
      "text/html": [
       "<div>\n",
       "<style scoped>\n",
       "    .dataframe tbody tr th:only-of-type {\n",
       "        vertical-align: middle;\n",
       "    }\n",
       "\n",
       "    .dataframe tbody tr th {\n",
       "        vertical-align: top;\n",
       "    }\n",
       "\n",
       "    .dataframe thead th {\n",
       "        text-align: right;\n",
       "    }\n",
       "</style>\n",
       "<table border=\"1\" class=\"dataframe\">\n",
       "  <thead>\n",
       "    <tr style=\"text-align: right;\">\n",
       "      <th></th>\n",
       "      <th>Fruits</th>\n",
       "      <th>Kilos</th>\n",
       "      <th>sample</th>\n",
       "    </tr>\n",
       "  </thead>\n",
       "  <tbody>\n",
       "    <tr>\n",
       "      <th>0</th>\n",
       "      <td>Apple</td>\n",
       "      <td>3</td>\n",
       "      <td>test</td>\n",
       "    </tr>\n",
       "    <tr>\n",
       "      <th>1</th>\n",
       "      <td>Bannan</td>\n",
       "      <td>44</td>\n",
       "      <td>train</td>\n",
       "    </tr>\n",
       "    <tr>\n",
       "      <th>2</th>\n",
       "      <td>Canteleoup</td>\n",
       "      <td>6</td>\n",
       "      <td>test</td>\n",
       "    </tr>\n",
       "    <tr>\n",
       "      <th>3</th>\n",
       "      <td>Dewberries</td>\n",
       "      <td>11</td>\n",
       "      <td>train</td>\n",
       "    </tr>\n",
       "  </tbody>\n",
       "</table>\n",
       "</div>"
      ],
      "text/plain": [
       "       Fruits  Kilos sample\n",
       "0       Apple      3   test\n",
       "1      Bannan     44  train\n",
       "2  Canteleoup      6   test\n",
       "3  Dewberries     11  train"
      ]
     },
     "execution_count": 17,
     "metadata": {},
     "output_type": "execute_result"
    }
   ],
   "source": [
    "dict = {'Fruits': [\"Apple\", \"Bannan\", \"Canteleoup\", \"Dewberries\"], \"Kilos\" : pd.Series([3,44,6,11]),'sample': pd.Categorical([\"test\", \"train\", \"test\", \"train\"]) }\n",
    "\n",
    "dict_df = pd.DataFrame(dict)\n",
    "\n",
    "dict_df"
   ]
  },
  {
   "cell_type": "code",
   "execution_count": 19,
   "metadata": {},
   "outputs": [
    {
     "data": {
      "text/plain": [
       "Fruits      object\n",
       "Kilos        int64\n",
       "sample    category\n",
       "dtype: object"
      ]
     },
     "execution_count": 19,
     "metadata": {},
     "output_type": "execute_result"
    }
   ],
   "source": [
    "dict_df.dtypes"
   ]
  },
  {
   "cell_type": "markdown",
   "metadata": {},
   "source": [
    "### Viewing Data"
   ]
  },
  {
   "cell_type": "code",
   "execution_count": 21,
   "metadata": {},
   "outputs": [
    {
     "data": {
      "text/html": [
       "<div>\n",
       "<style scoped>\n",
       "    .dataframe tbody tr th:only-of-type {\n",
       "        vertical-align: middle;\n",
       "    }\n",
       "\n",
       "    .dataframe tbody tr th {\n",
       "        vertical-align: top;\n",
       "    }\n",
       "\n",
       "    .dataframe thead th {\n",
       "        text-align: right;\n",
       "    }\n",
       "</style>\n",
       "<table border=\"1\" class=\"dataframe\">\n",
       "  <thead>\n",
       "    <tr style=\"text-align: right;\">\n",
       "      <th></th>\n",
       "      <th>A</th>\n",
       "      <th>B</th>\n",
       "      <th>C</th>\n",
       "      <th>D</th>\n",
       "    </tr>\n",
       "  </thead>\n",
       "  <tbody>\n",
       "    <tr>\n",
       "      <th>2019-01-01</th>\n",
       "      <td>0.839231</td>\n",
       "      <td>-1.061113</td>\n",
       "      <td>-0.626078</td>\n",
       "      <td>-1.252577</td>\n",
       "    </tr>\n",
       "    <tr>\n",
       "      <th>2019-01-02</th>\n",
       "      <td>0.384877</td>\n",
       "      <td>-1.561748</td>\n",
       "      <td>-0.936011</td>\n",
       "      <td>-0.974969</td>\n",
       "    </tr>\n",
       "    <tr>\n",
       "      <th>2019-01-03</th>\n",
       "      <td>1.009431</td>\n",
       "      <td>0.141091</td>\n",
       "      <td>1.447420</td>\n",
       "      <td>0.125754</td>\n",
       "    </tr>\n",
       "    <tr>\n",
       "      <th>2019-01-04</th>\n",
       "      <td>1.413354</td>\n",
       "      <td>-1.092345</td>\n",
       "      <td>-1.468236</td>\n",
       "      <td>-0.194967</td>\n",
       "    </tr>\n",
       "    <tr>\n",
       "      <th>2019-01-05</th>\n",
       "      <td>0.028326</td>\n",
       "      <td>-1.223371</td>\n",
       "      <td>-1.342722</td>\n",
       "      <td>-0.538534</td>\n",
       "    </tr>\n",
       "  </tbody>\n",
       "</table>\n",
       "</div>"
      ],
      "text/plain": [
       "                   A         B         C         D\n",
       "2019-01-01  0.839231 -1.061113 -0.626078 -1.252577\n",
       "2019-01-02  0.384877 -1.561748 -0.936011 -0.974969\n",
       "2019-01-03  1.009431  0.141091  1.447420  0.125754\n",
       "2019-01-04  1.413354 -1.092345 -1.468236 -0.194967\n",
       "2019-01-05  0.028326 -1.223371 -1.342722 -0.538534"
      ]
     },
     "execution_count": 21,
     "metadata": {},
     "output_type": "execute_result"
    }
   ],
   "source": [
    "df.head()"
   ]
  },
  {
   "cell_type": "code",
   "execution_count": 23,
   "metadata": {},
   "outputs": [
    {
     "data": {
      "text/html": [
       "<div>\n",
       "<style scoped>\n",
       "    .dataframe tbody tr th:only-of-type {\n",
       "        vertical-align: middle;\n",
       "    }\n",
       "\n",
       "    .dataframe tbody tr th {\n",
       "        vertical-align: top;\n",
       "    }\n",
       "\n",
       "    .dataframe thead th {\n",
       "        text-align: right;\n",
       "    }\n",
       "</style>\n",
       "<table border=\"1\" class=\"dataframe\">\n",
       "  <thead>\n",
       "    <tr style=\"text-align: right;\">\n",
       "      <th></th>\n",
       "      <th>A</th>\n",
       "      <th>B</th>\n",
       "      <th>C</th>\n",
       "      <th>D</th>\n",
       "    </tr>\n",
       "  </thead>\n",
       "  <tbody>\n",
       "    <tr>\n",
       "      <th>2019-01-02</th>\n",
       "      <td>0.384877</td>\n",
       "      <td>-1.561748</td>\n",
       "      <td>-0.936011</td>\n",
       "      <td>-0.974969</td>\n",
       "    </tr>\n",
       "    <tr>\n",
       "      <th>2019-01-03</th>\n",
       "      <td>1.009431</td>\n",
       "      <td>0.141091</td>\n",
       "      <td>1.447420</td>\n",
       "      <td>0.125754</td>\n",
       "    </tr>\n",
       "    <tr>\n",
       "      <th>2019-01-04</th>\n",
       "      <td>1.413354</td>\n",
       "      <td>-1.092345</td>\n",
       "      <td>-1.468236</td>\n",
       "      <td>-0.194967</td>\n",
       "    </tr>\n",
       "    <tr>\n",
       "      <th>2019-01-05</th>\n",
       "      <td>0.028326</td>\n",
       "      <td>-1.223371</td>\n",
       "      <td>-1.342722</td>\n",
       "      <td>-0.538534</td>\n",
       "    </tr>\n",
       "    <tr>\n",
       "      <th>2019-01-06</th>\n",
       "      <td>-1.217655</td>\n",
       "      <td>-1.347822</td>\n",
       "      <td>-1.420383</td>\n",
       "      <td>-0.126034</td>\n",
       "    </tr>\n",
       "  </tbody>\n",
       "</table>\n",
       "</div>"
      ],
      "text/plain": [
       "                   A         B         C         D\n",
       "2019-01-02  0.384877 -1.561748 -0.936011 -0.974969\n",
       "2019-01-03  1.009431  0.141091  1.447420  0.125754\n",
       "2019-01-04  1.413354 -1.092345 -1.468236 -0.194967\n",
       "2019-01-05  0.028326 -1.223371 -1.342722 -0.538534\n",
       "2019-01-06 -1.217655 -1.347822 -1.420383 -0.126034"
      ]
     },
     "execution_count": 23,
     "metadata": {},
     "output_type": "execute_result"
    }
   ],
   "source": [
    "df.tail()"
   ]
  },
  {
   "cell_type": "code",
   "execution_count": 26,
   "metadata": {},
   "outputs": [
    {
     "data": {
      "text/plain": [
       "DatetimeIndex(['2019-01-01', '2019-01-02', '2019-01-03', '2019-01-04',\n",
       "               '2019-01-05', '2019-01-06'],\n",
       "              dtype='datetime64[ns]', freq='D')"
      ]
     },
     "execution_count": 26,
     "metadata": {},
     "output_type": "execute_result"
    }
   ],
   "source": [
    "df.index"
   ]
  },
  {
   "cell_type": "code",
   "execution_count": 27,
   "metadata": {},
   "outputs": [
    {
     "data": {
      "text/html": [
       "<div>\n",
       "<style scoped>\n",
       "    .dataframe tbody tr th:only-of-type {\n",
       "        vertical-align: middle;\n",
       "    }\n",
       "\n",
       "    .dataframe tbody tr th {\n",
       "        vertical-align: top;\n",
       "    }\n",
       "\n",
       "    .dataframe thead th {\n",
       "        text-align: right;\n",
       "    }\n",
       "</style>\n",
       "<table border=\"1\" class=\"dataframe\">\n",
       "  <thead>\n",
       "    <tr style=\"text-align: right;\">\n",
       "      <th></th>\n",
       "      <th>A</th>\n",
       "      <th>B</th>\n",
       "      <th>C</th>\n",
       "      <th>D</th>\n",
       "    </tr>\n",
       "  </thead>\n",
       "  <tbody>\n",
       "    <tr>\n",
       "      <th>count</th>\n",
       "      <td>6.000000</td>\n",
       "      <td>6.000000</td>\n",
       "      <td>6.000000</td>\n",
       "      <td>6.000000</td>\n",
       "    </tr>\n",
       "    <tr>\n",
       "      <th>mean</th>\n",
       "      <td>0.409594</td>\n",
       "      <td>-1.024218</td>\n",
       "      <td>-0.724335</td>\n",
       "      <td>-0.493554</td>\n",
       "    </tr>\n",
       "    <tr>\n",
       "      <th>std</th>\n",
       "      <td>0.932292</td>\n",
       "      <td>0.599544</td>\n",
       "      <td>1.112767</td>\n",
       "      <td>0.532479</td>\n",
       "    </tr>\n",
       "    <tr>\n",
       "      <th>min</th>\n",
       "      <td>-1.217655</td>\n",
       "      <td>-1.561748</td>\n",
       "      <td>-1.468236</td>\n",
       "      <td>-1.252577</td>\n",
       "    </tr>\n",
       "    <tr>\n",
       "      <th>25%</th>\n",
       "      <td>0.117463</td>\n",
       "      <td>-1.316709</td>\n",
       "      <td>-1.400968</td>\n",
       "      <td>-0.865860</td>\n",
       "    </tr>\n",
       "    <tr>\n",
       "      <th>50%</th>\n",
       "      <td>0.612054</td>\n",
       "      <td>-1.157858</td>\n",
       "      <td>-1.139366</td>\n",
       "      <td>-0.366750</td>\n",
       "    </tr>\n",
       "    <tr>\n",
       "      <th>75%</th>\n",
       "      <td>0.966881</td>\n",
       "      <td>-1.068921</td>\n",
       "      <td>-0.703561</td>\n",
       "      <td>-0.143267</td>\n",
       "    </tr>\n",
       "    <tr>\n",
       "      <th>max</th>\n",
       "      <td>1.413354</td>\n",
       "      <td>0.141091</td>\n",
       "      <td>1.447420</td>\n",
       "      <td>0.125754</td>\n",
       "    </tr>\n",
       "  </tbody>\n",
       "</table>\n",
       "</div>"
      ],
      "text/plain": [
       "              A         B         C         D\n",
       "count  6.000000  6.000000  6.000000  6.000000\n",
       "mean   0.409594 -1.024218 -0.724335 -0.493554\n",
       "std    0.932292  0.599544  1.112767  0.532479\n",
       "min   -1.217655 -1.561748 -1.468236 -1.252577\n",
       "25%    0.117463 -1.316709 -1.400968 -0.865860\n",
       "50%    0.612054 -1.157858 -1.139366 -0.366750\n",
       "75%    0.966881 -1.068921 -0.703561 -0.143267\n",
       "max    1.413354  0.141091  1.447420  0.125754"
      ]
     },
     "execution_count": 27,
     "metadata": {},
     "output_type": "execute_result"
    }
   ],
   "source": [
    "df.describe()"
   ]
  },
  {
   "cell_type": "code",
   "execution_count": 28,
   "metadata": {},
   "outputs": [
    {
     "data": {
      "text/html": [
       "<div>\n",
       "<style scoped>\n",
       "    .dataframe tbody tr th:only-of-type {\n",
       "        vertical-align: middle;\n",
       "    }\n",
       "\n",
       "    .dataframe tbody tr th {\n",
       "        vertical-align: top;\n",
       "    }\n",
       "\n",
       "    .dataframe thead th {\n",
       "        text-align: right;\n",
       "    }\n",
       "</style>\n",
       "<table border=\"1\" class=\"dataframe\">\n",
       "  <thead>\n",
       "    <tr style=\"text-align: right;\">\n",
       "      <th></th>\n",
       "      <th>2019-01-01 00:00:00</th>\n",
       "      <th>2019-01-02 00:00:00</th>\n",
       "      <th>2019-01-03 00:00:00</th>\n",
       "      <th>2019-01-04 00:00:00</th>\n",
       "      <th>2019-01-05 00:00:00</th>\n",
       "      <th>2019-01-06 00:00:00</th>\n",
       "    </tr>\n",
       "  </thead>\n",
       "  <tbody>\n",
       "    <tr>\n",
       "      <th>A</th>\n",
       "      <td>0.839231</td>\n",
       "      <td>0.384877</td>\n",
       "      <td>1.009431</td>\n",
       "      <td>1.413354</td>\n",
       "      <td>0.028326</td>\n",
       "      <td>-1.217655</td>\n",
       "    </tr>\n",
       "    <tr>\n",
       "      <th>B</th>\n",
       "      <td>-1.061113</td>\n",
       "      <td>-1.561748</td>\n",
       "      <td>0.141091</td>\n",
       "      <td>-1.092345</td>\n",
       "      <td>-1.223371</td>\n",
       "      <td>-1.347822</td>\n",
       "    </tr>\n",
       "    <tr>\n",
       "      <th>C</th>\n",
       "      <td>-0.626078</td>\n",
       "      <td>-0.936011</td>\n",
       "      <td>1.447420</td>\n",
       "      <td>-1.468236</td>\n",
       "      <td>-1.342722</td>\n",
       "      <td>-1.420383</td>\n",
       "    </tr>\n",
       "    <tr>\n",
       "      <th>D</th>\n",
       "      <td>-1.252577</td>\n",
       "      <td>-0.974969</td>\n",
       "      <td>0.125754</td>\n",
       "      <td>-0.194967</td>\n",
       "      <td>-0.538534</td>\n",
       "      <td>-0.126034</td>\n",
       "    </tr>\n",
       "  </tbody>\n",
       "</table>\n",
       "</div>"
      ],
      "text/plain": [
       "   2019-01-01  2019-01-02  2019-01-03  2019-01-04  2019-01-05  2019-01-06\n",
       "A    0.839231    0.384877    1.009431    1.413354    0.028326   -1.217655\n",
       "B   -1.061113   -1.561748    0.141091   -1.092345   -1.223371   -1.347822\n",
       "C   -0.626078   -0.936011    1.447420   -1.468236   -1.342722   -1.420383\n",
       "D   -1.252577   -0.974969    0.125754   -0.194967   -0.538534   -0.126034"
      ]
     },
     "execution_count": 28,
     "metadata": {},
     "output_type": "execute_result"
    }
   ],
   "source": [
    "# TRANSPOSE \n",
    "df.T"
   ]
  }
 ],
 "metadata": {
  "kernelspec": {
   "display_name": "Python 3",
   "language": "python",
   "name": "python3"
  },
  "language_info": {
   "codemirror_mode": {
    "name": "ipython",
    "version": 3
   },
   "file_extension": ".py",
   "mimetype": "text/x-python",
   "name": "python",
   "nbconvert_exporter": "python",
   "pygments_lexer": "ipython3",
   "version": "3.7.3"
  }
 },
 "nbformat": 4,
 "nbformat_minor": 2
}
